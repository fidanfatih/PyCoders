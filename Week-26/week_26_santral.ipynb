{
  "nbformat": 4,
  "nbformat_minor": 5,
  "metadata": {
    "kernelspec": {
      "display_name": "Python 3",
      "language": "python",
      "name": "python3"
    },
    "language_info": {
      "codemirror_mode": {
        "name": "ipython",
        "version": 3
      },
      "file_extension": ".py",
      "mimetype": "text/x-python",
      "name": "python",
      "nbconvert_exporter": "python",
      "pygments_lexer": "ipython3",
      "version": "3.8.5"
    },
    "colab": {
      "name": "week-26_santral.ipynb",
      "provenance": []
    }
  },
  "cells": [
    {
      "cell_type": "markdown",
      "metadata": {
        "id": "01122b73"
      },
      "source": [
        "**2 - You will use the dataset of Combined cycle power plant. The dataset contains 9568 data points collected from a Combined Cycle Power Plant over 6 years (2006-2011), when the power plant was set to work with full load. You are expected to predict Net hourly electrical energy output.(EP). You should implement a neural network for this prediction. Evaluate your results after implementing neural network. You can use Colab for the assignment.**\n",
        "\n",
        "Note: Use MSE(minimum squared error) for the loss function.\n",
        "See for description of the data: https://archive.ics.uci.edu/ml/datasets/combined+cycle+power+plant\n",
        "\n",
        "For downloading: https://archive.ics.uci.edu/ml/machine-learning-databases/00294/CCPP.zip"
      ],
      "id": "01122b73"
    },
    {
      "cell_type": "code",
      "metadata": {
        "id": "18e0bf2c"
      },
      "source": [
        "import pandas as pd\n",
        "import numpy as np\n",
        "import matplotlib.pyplot as plt\n",
        "import seaborn as sns\n",
        "\n",
        "from sklearn.metrics import mean_squared_error,mean_absolute_error,r2_score, explained_variance_score\n",
        "# from sklearn.metrics import classification_report,confusion_matrix, f1_score, recall_score, accuracy_score\n",
        "from sklearn.model_selection import train_test_split\n",
        "from sklearn.preprocessing import MinMaxScaler, RobustScaler, StandardScaler\n",
        "\n",
        "import tensorflow as tf\n",
        "from tensorflow.keras.models import Sequential, load_model\n",
        "from tensorflow.keras.layers import Dense, Activation,Dropout\n",
        "from tensorflow.keras.optimizers import Adam\n",
        "from tensorflow.keras.callbacks import EarlyStopping\n",
        "\n",
        "import warnings\n",
        "warnings.filterwarnings('ignore')\n",
        "\n",
        "# might be needed depending on your version of Jupyter\n",
        "%matplotlib inline"
      ],
      "id": "18e0bf2c",
      "execution_count": 1,
      "outputs": []
    },
    {
      "cell_type": "code",
      "metadata": {
        "colab": {
          "base_uri": "https://localhost:8080/",
          "height": 417
        },
        "id": "4b060112",
        "outputId": "f4dc1893-6a91-4cfd-8369-ef78b403b657"
      },
      "source": [
        "df = pd.read_excel(\"Folds5x2_pp.xlsx\", engine= \"openpyxl\")\n",
        "df"
      ],
      "id": "4b060112",
      "execution_count": 2,
      "outputs": [
        {
          "output_type": "execute_result",
          "data": {
            "text/html": [
              "<div>\n",
              "<style scoped>\n",
              "    .dataframe tbody tr th:only-of-type {\n",
              "        vertical-align: middle;\n",
              "    }\n",
              "\n",
              "    .dataframe tbody tr th {\n",
              "        vertical-align: top;\n",
              "    }\n",
              "\n",
              "    .dataframe thead th {\n",
              "        text-align: right;\n",
              "    }\n",
              "</style>\n",
              "<table border=\"1\" class=\"dataframe\">\n",
              "  <thead>\n",
              "    <tr style=\"text-align: right;\">\n",
              "      <th></th>\n",
              "      <th>AT</th>\n",
              "      <th>V</th>\n",
              "      <th>AP</th>\n",
              "      <th>RH</th>\n",
              "      <th>PE</th>\n",
              "    </tr>\n",
              "  </thead>\n",
              "  <tbody>\n",
              "    <tr>\n",
              "      <th>0</th>\n",
              "      <td>14.96</td>\n",
              "      <td>41.76</td>\n",
              "      <td>1024.07</td>\n",
              "      <td>73.17</td>\n",
              "      <td>463.26</td>\n",
              "    </tr>\n",
              "    <tr>\n",
              "      <th>1</th>\n",
              "      <td>25.18</td>\n",
              "      <td>62.96</td>\n",
              "      <td>1020.04</td>\n",
              "      <td>59.08</td>\n",
              "      <td>444.37</td>\n",
              "    </tr>\n",
              "    <tr>\n",
              "      <th>2</th>\n",
              "      <td>5.11</td>\n",
              "      <td>39.40</td>\n",
              "      <td>1012.16</td>\n",
              "      <td>92.14</td>\n",
              "      <td>488.56</td>\n",
              "    </tr>\n",
              "    <tr>\n",
              "      <th>3</th>\n",
              "      <td>20.86</td>\n",
              "      <td>57.32</td>\n",
              "      <td>1010.24</td>\n",
              "      <td>76.64</td>\n",
              "      <td>446.48</td>\n",
              "    </tr>\n",
              "    <tr>\n",
              "      <th>4</th>\n",
              "      <td>10.82</td>\n",
              "      <td>37.50</td>\n",
              "      <td>1009.23</td>\n",
              "      <td>96.62</td>\n",
              "      <td>473.90</td>\n",
              "    </tr>\n",
              "    <tr>\n",
              "      <th>...</th>\n",
              "      <td>...</td>\n",
              "      <td>...</td>\n",
              "      <td>...</td>\n",
              "      <td>...</td>\n",
              "      <td>...</td>\n",
              "    </tr>\n",
              "    <tr>\n",
              "      <th>9563</th>\n",
              "      <td>16.65</td>\n",
              "      <td>49.69</td>\n",
              "      <td>1014.01</td>\n",
              "      <td>91.00</td>\n",
              "      <td>460.03</td>\n",
              "    </tr>\n",
              "    <tr>\n",
              "      <th>9564</th>\n",
              "      <td>13.19</td>\n",
              "      <td>39.18</td>\n",
              "      <td>1023.67</td>\n",
              "      <td>66.78</td>\n",
              "      <td>469.62</td>\n",
              "    </tr>\n",
              "    <tr>\n",
              "      <th>9565</th>\n",
              "      <td>31.32</td>\n",
              "      <td>74.33</td>\n",
              "      <td>1012.92</td>\n",
              "      <td>36.48</td>\n",
              "      <td>429.57</td>\n",
              "    </tr>\n",
              "    <tr>\n",
              "      <th>9566</th>\n",
              "      <td>24.48</td>\n",
              "      <td>69.45</td>\n",
              "      <td>1013.86</td>\n",
              "      <td>62.39</td>\n",
              "      <td>435.74</td>\n",
              "    </tr>\n",
              "    <tr>\n",
              "      <th>9567</th>\n",
              "      <td>21.60</td>\n",
              "      <td>62.52</td>\n",
              "      <td>1017.23</td>\n",
              "      <td>67.87</td>\n",
              "      <td>453.28</td>\n",
              "    </tr>\n",
              "  </tbody>\n",
              "</table>\n",
              "<p>9568 rows × 5 columns</p>\n",
              "</div>"
            ],
            "text/plain": [
              "         AT      V       AP     RH      PE\n",
              "0     14.96  41.76  1024.07  73.17  463.26\n",
              "1     25.18  62.96  1020.04  59.08  444.37\n",
              "2      5.11  39.40  1012.16  92.14  488.56\n",
              "3     20.86  57.32  1010.24  76.64  446.48\n",
              "4     10.82  37.50  1009.23  96.62  473.90\n",
              "...     ...    ...      ...    ...     ...\n",
              "9563  16.65  49.69  1014.01  91.00  460.03\n",
              "9564  13.19  39.18  1023.67  66.78  469.62\n",
              "9565  31.32  74.33  1012.92  36.48  429.57\n",
              "9566  24.48  69.45  1013.86  62.39  435.74\n",
              "9567  21.60  62.52  1017.23  67.87  453.28\n",
              "\n",
              "[9568 rows x 5 columns]"
            ]
          },
          "metadata": {
            "tags": []
          },
          "execution_count": 2
        }
      ]
    },
    {
      "cell_type": "code",
      "metadata": {
        "colab": {
          "base_uri": "https://localhost:8080/"
        },
        "id": "0edcce8d",
        "outputId": "dff3b0f5-7827-4ec3-b1b9-933357c2046e"
      },
      "source": [
        "df.info()"
      ],
      "id": "0edcce8d",
      "execution_count": 3,
      "outputs": [
        {
          "output_type": "stream",
          "text": [
            "<class 'pandas.core.frame.DataFrame'>\n",
            "RangeIndex: 9568 entries, 0 to 9567\n",
            "Data columns (total 5 columns):\n",
            " #   Column  Non-Null Count  Dtype  \n",
            "---  ------  --------------  -----  \n",
            " 0   AT      9568 non-null   float64\n",
            " 1   V       9568 non-null   float64\n",
            " 2   AP      9568 non-null   float64\n",
            " 3   RH      9568 non-null   float64\n",
            " 4   PE      9568 non-null   float64\n",
            "dtypes: float64(5)\n",
            "memory usage: 373.9 KB\n"
          ],
          "name": "stdout"
        }
      ]
    },
    {
      "cell_type": "code",
      "metadata": {
        "colab": {
          "base_uri": "https://localhost:8080/",
          "height": 203
        },
        "id": "66651779",
        "outputId": "bfeecef5-fe2e-4884-e86e-30eb3b94cc1f"
      },
      "source": [
        "df.describe().T"
      ],
      "id": "66651779",
      "execution_count": 4,
      "outputs": [
        {
          "output_type": "execute_result",
          "data": {
            "text/html": [
              "<div>\n",
              "<style scoped>\n",
              "    .dataframe tbody tr th:only-of-type {\n",
              "        vertical-align: middle;\n",
              "    }\n",
              "\n",
              "    .dataframe tbody tr th {\n",
              "        vertical-align: top;\n",
              "    }\n",
              "\n",
              "    .dataframe thead th {\n",
              "        text-align: right;\n",
              "    }\n",
              "</style>\n",
              "<table border=\"1\" class=\"dataframe\">\n",
              "  <thead>\n",
              "    <tr style=\"text-align: right;\">\n",
              "      <th></th>\n",
              "      <th>count</th>\n",
              "      <th>mean</th>\n",
              "      <th>std</th>\n",
              "      <th>min</th>\n",
              "      <th>25%</th>\n",
              "      <th>50%</th>\n",
              "      <th>75%</th>\n",
              "      <th>max</th>\n",
              "    </tr>\n",
              "  </thead>\n",
              "  <tbody>\n",
              "    <tr>\n",
              "      <th>AT</th>\n",
              "      <td>9568.0</td>\n",
              "      <td>19.651231</td>\n",
              "      <td>7.452473</td>\n",
              "      <td>1.81</td>\n",
              "      <td>13.5100</td>\n",
              "      <td>20.345</td>\n",
              "      <td>25.72</td>\n",
              "      <td>37.11</td>\n",
              "    </tr>\n",
              "    <tr>\n",
              "      <th>V</th>\n",
              "      <td>9568.0</td>\n",
              "      <td>54.305804</td>\n",
              "      <td>12.707893</td>\n",
              "      <td>25.36</td>\n",
              "      <td>41.7400</td>\n",
              "      <td>52.080</td>\n",
              "      <td>66.54</td>\n",
              "      <td>81.56</td>\n",
              "    </tr>\n",
              "    <tr>\n",
              "      <th>AP</th>\n",
              "      <td>9568.0</td>\n",
              "      <td>1013.259078</td>\n",
              "      <td>5.938784</td>\n",
              "      <td>992.89</td>\n",
              "      <td>1009.1000</td>\n",
              "      <td>1012.940</td>\n",
              "      <td>1017.26</td>\n",
              "      <td>1033.30</td>\n",
              "    </tr>\n",
              "    <tr>\n",
              "      <th>RH</th>\n",
              "      <td>9568.0</td>\n",
              "      <td>73.308978</td>\n",
              "      <td>14.600269</td>\n",
              "      <td>25.56</td>\n",
              "      <td>63.3275</td>\n",
              "      <td>74.975</td>\n",
              "      <td>84.83</td>\n",
              "      <td>100.16</td>\n",
              "    </tr>\n",
              "    <tr>\n",
              "      <th>PE</th>\n",
              "      <td>9568.0</td>\n",
              "      <td>454.365009</td>\n",
              "      <td>17.066995</td>\n",
              "      <td>420.26</td>\n",
              "      <td>439.7500</td>\n",
              "      <td>451.550</td>\n",
              "      <td>468.43</td>\n",
              "      <td>495.76</td>\n",
              "    </tr>\n",
              "  </tbody>\n",
              "</table>\n",
              "</div>"
            ],
            "text/plain": [
              "     count         mean        std  ...       50%      75%      max\n",
              "AT  9568.0    19.651231   7.452473  ...    20.345    25.72    37.11\n",
              "V   9568.0    54.305804  12.707893  ...    52.080    66.54    81.56\n",
              "AP  9568.0  1013.259078   5.938784  ...  1012.940  1017.26  1033.30\n",
              "RH  9568.0    73.308978  14.600269  ...    74.975    84.83   100.16\n",
              "PE  9568.0   454.365009  17.066995  ...   451.550   468.43   495.76\n",
              "\n",
              "[5 rows x 8 columns]"
            ]
          },
          "metadata": {
            "tags": []
          },
          "execution_count": 4
        }
      ]
    },
    {
      "cell_type": "code",
      "metadata": {
        "colab": {
          "base_uri": "https://localhost:8080/",
          "height": 269
        },
        "id": "be2ebc64",
        "outputId": "f8593a65-f749-4ac6-edf2-b47378f30d3b"
      },
      "source": [
        "# plt.figure(figsize=(10,8))\n",
        "sns.heatmap(df.corr(), cmap='coolwarm',annot=True);"
      ],
      "id": "be2ebc64",
      "execution_count": 5,
      "outputs": [
        {
          "output_type": "display_data",
          "data": {
            "image/png": "[encoded data removed]",
            "text/plain": [
              "<Figure size 432x288 with 2 Axes>"
            ]
          },
          "metadata": {
            "tags": [],
            "needs_background": "light"
          }
        }
      ]
    },
    {
      "cell_type": "code",
      "metadata": {
        "id": "82f1c5be"
      },
      "source": [
        "X=df.iloc[:,:-1].values\n",
        "y=df.iloc[:,-1].values"
      ],
      "id": "82f1c5be",
      "execution_count": 6,
      "outputs": []
    },
    {
      "cell_type": "code",
      "metadata": {
        "id": "baf191c4"
      },
      "source": [
        "from sklearn.model_selection import train_test_split\n",
        "X_train, X_test, y_train, y_test = train_test_split(X,y,test_size=0.2,random_state=42)"
      ],
      "id": "baf191c4",
      "execution_count": 7,
      "outputs": []
    },
    {
      "cell_type": "code",
      "metadata": {
        "colab": {
          "base_uri": "https://localhost:8080/"
        },
        "id": "41d70f3c",
        "outputId": "2c4b4f2c-7edd-4e0d-ae88-b1e768a4df97"
      },
      "source": [
        "X_train.shape, y_train.shape"
      ],
      "id": "41d70f3c",
      "execution_count": 8,
      "outputs": [
        {
          "output_type": "execute_result",
          "data": {
            "text/plain": [
              "((7654, 4), (7654,))"
            ]
          },
          "metadata": {
            "tags": []
          },
          "execution_count": 8
        }
      ]
    },
    {
      "cell_type": "code",
      "metadata": {
        "id": "79529f67"
      },
      "source": [
        "from sklearn.preprocessing import StandardScaler\n",
        "sc = StandardScaler()\n",
        "X_train = sc.fit_transform(X_train)\n",
        "X_test = sc.transform(X_test)"
      ],
      "id": "79529f67",
      "execution_count": 9,
      "outputs": []
    },
    {
      "cell_type": "code",
      "metadata": {
        "id": "f6f515cd"
      },
      "source": [
        "# from sklearn.preprocessing import RobustScaler\n",
        "# sc = RobustScaler()\n",
        "# X_train = sc.fit_transform(X_train)\n",
        "# X_test = sc.transform(X_test)"
      ],
      "id": "f6f515cd",
      "execution_count": 10,
      "outputs": []
    },
    {
      "cell_type": "code",
      "metadata": {
        "id": "43968e58"
      },
      "source": [
        "model = Sequential()\n",
        "\n",
        "model.add(Dense(4,activation='relu')) #4 feature var, Dense 4 seceriz.\n",
        "# model.add(Dense(2,activation='relu'))\n",
        "model.add(Dense(1)) # regresyon oldugu icin output layer Dense 1 secilir, aktivation function olmaz.\n",
        "opt=Adam(lr=0.001)\n",
        "model.compile(optimizer=opt,loss='mse')"
      ],
      "id": "43968e58",
      "execution_count": 11,
      "outputs": []
    },
    {
      "cell_type": "code",
      "metadata": {
        "scrolled": false,
        "colab": {
          "base_uri": "https://localhost:8080/"
        },
        "id": "64addabc",
        "outputId": "453c1de6-f7ce-448a-aa98-d4acdf254933"
      },
      "source": [
        "early_stop = EarlyStopping(monitor='val_loss',mode='min',verbose=1,patience=10)\n",
        "\n",
        "model.fit(x=X_train,y=y_train,\n",
        "          validation_data=(X_test,y_test),\n",
        "          batch_size=2,epochs=100,\n",
        "          callbacks=[early_stop])"
      ],
      "id": "64addabc",
      "execution_count": 12,
      "outputs": [
        {
          "output_type": "stream",
          "text": [
            "Epoch 1/100\n",
            "3827/3827 [==============================] - 5s 1ms/step - loss: 175848.1719 - val_loss: 124001.1953\n",
            "Epoch 2/100\n",
            "3827/3827 [==============================] - 4s 1ms/step - loss: 69232.1250 - val_loss: 26543.2402\n",
            "Epoch 3/100\n",
            "3827/3827 [==============================] - 4s 1ms/step - loss: 12637.4824 - val_loss: 6195.3911\n",
            "Epoch 4/100\n",
            "3827/3827 [==============================] - 4s 1ms/step - loss: 3484.8838 - val_loss: 1523.4855\n",
            "Epoch 5/100\n",
            "3827/3827 [==============================] - 4s 1ms/step - loss: 696.5161 - val_loss: 270.9397\n",
            "Epoch 6/100\n",
            "3827/3827 [==============================] - 4s 1ms/step - loss: 124.8898 - val_loss: 58.1497\n",
            "Epoch 7/100\n",
            "3827/3827 [==============================] - 4s 1ms/step - loss: 34.1845 - val_loss: 29.0109\n",
            "Epoch 8/100\n",
            "3827/3827 [==============================] - 4s 1ms/step - loss: 23.5731 - val_loss: 24.4931\n",
            "Epoch 9/100\n",
            "3827/3827 [==============================] - 4s 1ms/step - loss: 22.1295 - val_loss: 23.8110\n",
            "Epoch 10/100\n",
            "3827/3827 [==============================] - 4s 1ms/step - loss: 21.7893 - val_loss: 22.9633\n",
            "Epoch 11/100\n",
            "3827/3827 [==============================] - 4s 1ms/step - loss: 21.5887 - val_loss: 21.6996\n",
            "Epoch 12/100\n",
            "3827/3827 [==============================] - 4s 1ms/step - loss: 21.3731 - val_loss: 21.8188\n",
            "Epoch 13/100\n",
            "3827/3827 [==============================] - 4s 1ms/step - loss: 21.4141 - val_loss: 21.8451\n",
            "Epoch 14/100\n",
            "3827/3827 [==============================] - 4s 1ms/step - loss: 21.3333 - val_loss: 21.0711\n",
            "Epoch 15/100\n",
            "3827/3827 [==============================] - 4s 1ms/step - loss: 21.2875 - val_loss: 21.2906\n",
            "Epoch 16/100\n",
            "3827/3827 [==============================] - 4s 1ms/step - loss: 21.2767 - val_loss: 21.0462\n",
            "Epoch 17/100\n",
            "3827/3827 [==============================] - 4s 1ms/step - loss: 21.1731 - val_loss: 20.7829\n",
            "Epoch 18/100\n",
            "3827/3827 [==============================] - 4s 1ms/step - loss: 21.2172 - val_loss: 21.0488\n",
            "Epoch 19/100\n",
            "3827/3827 [==============================] - 4s 1ms/step - loss: 21.1617 - val_loss: 20.8208\n",
            "Epoch 20/100\n",
            "3827/3827 [==============================] - 4s 1ms/step - loss: 21.1247 - val_loss: 21.9051\n",
            "Epoch 21/100\n",
            "3827/3827 [==============================] - 4s 1ms/step - loss: 21.1489 - val_loss: 20.4712\n",
            "Epoch 22/100\n",
            "3827/3827 [==============================] - 4s 1ms/step - loss: 21.0793 - val_loss: 20.6226\n",
            "Epoch 23/100\n",
            "3827/3827 [==============================] - 4s 1ms/step - loss: 21.1357 - val_loss: 20.5139\n",
            "Epoch 24/100\n",
            "3827/3827 [==============================] - 4s 1ms/step - loss: 21.0860 - val_loss: 20.3302\n",
            "Epoch 25/100\n",
            "3827/3827 [==============================] - 4s 1ms/step - loss: 21.0931 - val_loss: 20.4960\n",
            "Epoch 26/100\n",
            "3827/3827 [==============================] - 4s 1ms/step - loss: 21.0889 - val_loss: 20.5346\n",
            "Epoch 27/100\n",
            "3827/3827 [==============================] - 4s 1ms/step - loss: 21.0650 - val_loss: 20.3771\n",
            "Epoch 28/100\n",
            "3827/3827 [==============================] - 4s 1ms/step - loss: 21.0021 - val_loss: 20.4057\n",
            "Epoch 29/100\n",
            "3827/3827 [==============================] - 4s 1ms/step - loss: 20.9741 - val_loss: 20.5109\n",
            "Epoch 30/100\n",
            "3827/3827 [==============================] - 4s 1ms/step - loss: 21.0515 - val_loss: 20.1452\n",
            "Epoch 31/100\n",
            "3827/3827 [==============================] - 4s 1ms/step - loss: 21.0540 - val_loss: 20.7103\n",
            "Epoch 32/100\n",
            "3827/3827 [==============================] - 4s 1ms/step - loss: 20.9845 - val_loss: 20.3534\n",
            "Epoch 33/100\n",
            "3827/3827 [==============================] - 4s 1ms/step - loss: 20.9877 - val_loss: 20.0979\n",
            "Epoch 34/100\n",
            "3827/3827 [==============================] - 4s 1ms/step - loss: 21.0045 - val_loss: 20.4287\n",
            "Epoch 35/100\n",
            "3827/3827 [==============================] - 4s 1ms/step - loss: 20.9831 - val_loss: 20.2274\n",
            "Epoch 36/100\n",
            "3827/3827 [==============================] - 4s 1ms/step - loss: 20.9143 - val_loss: 20.4843\n",
            "Epoch 37/100\n",
            "3827/3827 [==============================] - 4s 1ms/step - loss: 20.9552 - val_loss: 20.0827\n",
            "Epoch 38/100\n",
            "3827/3827 [==============================] - 4s 1ms/step - loss: 20.9571 - val_loss: 20.5349\n",
            "Epoch 39/100\n",
            "3827/3827 [==============================] - 4s 1ms/step - loss: 20.9872 - val_loss: 20.4007\n",
            "Epoch 40/100\n",
            "3827/3827 [==============================] - 4s 1ms/step - loss: 20.9275 - val_loss: 20.3265\n",
            "Epoch 41/100\n",
            "3827/3827 [==============================] - 4s 1ms/step - loss: 20.8952 - val_loss: 19.9534\n",
            "Epoch 42/100\n",
            "3827/3827 [==============================] - 4s 1ms/step - loss: 20.9235 - val_loss: 20.1360\n",
            "Epoch 43/100\n",
            "3827/3827 [==============================] - 4s 1ms/step - loss: 20.9112 - val_loss: 19.9326\n",
            "Epoch 44/100\n",
            "3827/3827 [==============================] - 4s 1ms/step - loss: 20.9856 - val_loss: 20.0443\n",
            "Epoch 45/100\n",
            "3827/3827 [==============================] - 4s 1ms/step - loss: 20.8647 - val_loss: 20.3145\n",
            "Epoch 46/100\n",
            "3827/3827 [==============================] - 4s 1ms/step - loss: 20.8764 - val_loss: 20.2369\n",
            "Epoch 47/100\n",
            "3827/3827 [==============================] - 4s 1ms/step - loss: 20.9429 - val_loss: 19.9680\n",
            "Epoch 48/100\n",
            "3827/3827 [==============================] - 4s 1ms/step - loss: 20.8401 - val_loss: 20.3877\n",
            "Epoch 49/100\n",
            "3827/3827 [==============================] - 4s 1ms/step - loss: 20.8778 - val_loss: 20.3299\n",
            "Epoch 50/100\n",
            "3827/3827 [==============================] - 4s 1ms/step - loss: 20.8958 - val_loss: 20.2825\n",
            "Epoch 51/100\n",
            "3827/3827 [==============================] - 4s 1ms/step - loss: 20.8276 - val_loss: 20.1066\n",
            "Epoch 52/100\n",
            "3827/3827 [==============================] - 4s 1ms/step - loss: 20.8308 - val_loss: 20.8305\n",
            "Epoch 53/100\n",
            "3827/3827 [==============================] - 4s 1ms/step - loss: 20.8339 - val_loss: 20.0811\n",
            "Epoch 00053: early stopping\n"
          ],
          "name": "stdout"
        },
        {
          "output_type": "execute_result",
          "data": {
            "text/plain": [
              "<tensorflow.python.keras.callbacks.History at 0x7efc6cbc3f50>"
            ]
          },
          "metadata": {
            "tags": []
          },
          "execution_count": 12
        }
      ]
    },
    {
      "cell_type": "markdown",
      "metadata": {
        "id": "d2d7f7d2"
      },
      "source": [
        "### Evaluation"
      ],
      "id": "d2d7f7d2"
    },
    {
      "cell_type": "code",
      "metadata": {
        "colab": {
          "base_uri": "https://localhost:8080/"
        },
        "id": "abc183d2",
        "outputId": "f7a5d432-9689-416a-9d14-89c79cf36988"
      },
      "source": [
        "model.summary()"
      ],
      "id": "abc183d2",
      "execution_count": 13,
      "outputs": [
        {
          "output_type": "stream",
          "text": [
            "Model: \"sequential\"\n",
            "_________________________________________________________________\n",
            "Layer (type)                 Output Shape              Param #   \n",
            "=================================================================\n",
            "dense (Dense)                (2, 4)                    20        \n",
            "_________________________________________________________________\n",
            "dense_1 (Dense)              (2, 1)                    5         \n",
            "=================================================================\n",
            "Total params: 25\n",
            "Trainable params: 25\n",
            "Non-trainable params: 0\n",
            "_________________________________________________________________\n"
          ],
          "name": "stdout"
        }
      ]
    },
    {
      "cell_type": "code",
      "metadata": {
        "id": "dca671c5"
      },
      "source": [
        "# Alternative Summary\n",
        "# It is working in Google Colab\n",
        "\n",
        "# from tensorflow.keras.utils import plot_model\n",
        "# dot_img_file = '/tmp/model_1.png'\n",
        "# plot_model(model, to_file=dot_img_file, show_shapes=True)"
      ],
      "id": "dca671c5",
      "execution_count": 14,
      "outputs": []
    },
    {
      "cell_type": "code",
      "metadata": {
        "colab": {
          "base_uri": "https://localhost:8080/",
          "height": 265
        },
        "id": "649696e2",
        "outputId": "089f802f-cec2-4f94-ba6a-b80b3122a1b4"
      },
      "source": [
        "loss_df = pd.DataFrame(model.history.history)\n",
        "loss_df.plot();"
      ],
      "id": "649696e2",
      "execution_count": 15,
      "outputs": [
        {
          "output_type": "display_data",
          "data": {
            "image/png": "[encoded data removed]",
            "text/plain": [
              "<Figure size 432x288 with 1 Axes>"
            ]
          },
          "metadata": {
            "tags": [],
            "needs_background": "light"
          }
        }
      ]
    },
    {
      "cell_type": "markdown",
      "metadata": {
        "id": "0c2437f6"
      },
      "source": [
        "**Loss-Epoch Graph**"
      ],
      "id": "0c2437f6"
    },
    {
      "cell_type": "code",
      "metadata": {
        "colab": {
          "base_uri": "https://localhost:8080/",
          "height": 312
        },
        "id": "076c441f",
        "outputId": "c5ff2e58-f182-4d9d-d2e3-e7d54bc9674c"
      },
      "source": [
        "fig, ax= plt.subplots()\n",
        "ax.plot(loss_df)\n",
        "ax.set_xlabel(\"epoch\")\n",
        "ax.set_ylabel(\"loss\")\n",
        "ax.set_title(\"loss - epoch graph\")\n",
        "ax.set_xlim([0,15]) # focusing on the given x values\n",
        "ax.set_ylim([0,60]) # focusing on the given y values"
      ],
      "id": "076c441f",
      "execution_count": 16,
      "outputs": [
        {
          "output_type": "execute_result",
          "data": {
            "text/plain": [
              "(0.0, 60.0)"
            ]
          },
          "metadata": {
            "tags": []
          },
          "execution_count": 16
        },
        {
          "output_type": "display_data",
          "data": {
            "image/png": "[encoded data removed]",
            "text/plain": [
              "<Figure size 432x288 with 1 Axes>"
            ]
          },
          "metadata": {
            "tags": [],
            "needs_background": "light"
          }
        }
      ]
    },
    {
      "cell_type": "markdown",
      "metadata": {
        "id": "a9511820"
      },
      "source": [
        "**Evaluation Metrics**"
      ],
      "id": "a9511820"
    },
    {
      "cell_type": "code",
      "metadata": {
        "id": "a9ea3181"
      },
      "source": [
        "def eval_metrics(actual, pred):\n",
        "    rmse = np.sqrt(mean_squared_error(actual, pred))\n",
        "    mae = mean_absolute_error(actual, pred)\n",
        "#     mse = mean_squared_error(actual, pred)\n",
        "    r2score = r2_score(actual, pred)\n",
        "    print(f\"R2 Score: {r2score}\",\n",
        "          f\"Mean Absolute Error(MAE): {mae}\",\n",
        "#           f\"Mean Square Error(MSE): {mse}\",\n",
        "          f\"Root Mean Square Error(RMSE): {rmse}\",sep=\"\\n\")"
      ],
      "id": "a9ea3181",
      "execution_count": 17,
      "outputs": []
    },
    {
      "cell_type": "code",
      "metadata": {
        "colab": {
          "base_uri": "https://localhost:8080/"
        },
        "id": "1aa5aba2",
        "outputId": "eae1f1ef-838b-4157-cda4-6e80df96d0ce"
      },
      "source": [
        "#Training Data\n",
        "y_train_pred = model.predict(X_train)\n",
        "eval_metrics(y_train, y_train_pred)"
      ],
      "id": "1aa5aba2",
      "execution_count": 18,
      "outputs": [
        {
          "output_type": "stream",
          "text": [
            "R2 Score: 0.9294118828410356\n",
            "Mean Absolute Error(MAE): 3.5670690539987766\n",
            "Root Mean Square Error(RMSE): 4.536348439477501\n"
          ],
          "name": "stdout"
        }
      ]
    },
    {
      "cell_type": "code",
      "metadata": {
        "scrolled": false,
        "colab": {
          "base_uri": "https://localhost:8080/"
        },
        "id": "3509074c",
        "outputId": "ca759fae-bc95-445f-f700-75cc96fc9c18"
      },
      "source": [
        "# Test Data\n",
        "y_pred = model.predict(X_test)\n",
        "eval_metrics(y_test, y_pred)"
      ],
      "id": "3509074c",
      "execution_count": 19,
      "outputs": [
        {
          "output_type": "stream",
          "text": [
            "R2 Score: 0.9307685224948264\n",
            "Mean Absolute Error(MAE): 3.5460328054079318\n",
            "Root Mean Square Error(RMSE): 4.481198780619793\n"
          ],
          "name": "stdout"
        }
      ]
    },
    {
      "cell_type": "code",
      "metadata": {
        "colab": {
          "base_uri": "https://localhost:8080/"
        },
        "id": "7d79b41d",
        "outputId": "adc173e3-48e3-40ea-f5d9-a2c39f07ad44"
      },
      "source": [
        "# Alternatively\n",
        "training_score = model.evaluate(X_train,y_train,verbose=0)\n",
        "test_score = model.evaluate(X_test,y_test,verbose=0)\n",
        "\n",
        "print('training_msa:',training_score,\n",
        "      '\\ntest_msa:', test_score,sep='')"
      ],
      "id": "7d79b41d",
      "execution_count": 20,
      "outputs": [
        {
          "output_type": "stream",
          "text": [
            "training_msa:20.57845687866211\n",
            "test_msa:20.08115005493164\n"
          ],
          "name": "stdout"
        }
      ]
    },
    {
      "cell_type": "markdown",
      "metadata": {
        "id": "95263e2e"
      },
      "source": [
        "* In the above code, model.evaluate() gives MSE Score. Because, as a loss parametre, we use loss=\"mse\" in model.compile() when we create the model."
      ],
      "id": "95263e2e"
    },
    {
      "cell_type": "code",
      "metadata": {
        "colab": {
          "base_uri": "https://localhost:8080/"
        },
        "id": "ac45f43e",
        "outputId": "fd61bd26-8447-40a1-f1b5-bd7cab1e6cb7"
      },
      "source": [
        "explained_variance_score(y_test,y_pred)"
      ],
      "id": "ac45f43e",
      "execution_count": 21,
      "outputs": [
        {
          "output_type": "execute_result",
          "data": {
            "text/plain": [
              "0.930779742745576"
            ]
          },
          "metadata": {
            "tags": []
          },
          "execution_count": 21
        }
      ]
    },
    {
      "cell_type": "markdown",
      "metadata": {
        "id": "1b83a667"
      },
      "source": [
        "> **explained_variance_score**\n",
        "\n",
        "> hata varyansi ile gercek degerin varyansi arasindaki orani hesaplamak icin kullanilan bir metrik. Modelin veri setindeki farkli varyasyonlari ne kadar iyi aciklayabildigini gosteren puandir. Genellikle 0,6 treshold uzeri olmasi beklenir."
      ],
      "id": "1b83a667"
    },
    {
      "cell_type": "markdown",
      "metadata": {
        "id": "bedc1e6d"
      },
      "source": [
        "**Let's compare to the real test labels!**"
      ],
      "id": "bedc1e6d"
    },
    {
      "cell_type": "code",
      "metadata": {
        "colab": {
          "base_uri": "https://localhost:8080/"
        },
        "id": "25f54593",
        "outputId": "c6263e4f-f3bb-474e-9ee3-7c9daf5557bc"
      },
      "source": [
        "y_test.shape, y_pred.shape"
      ],
      "id": "25f54593",
      "execution_count": 22,
      "outputs": [
        {
          "output_type": "execute_result",
          "data": {
            "text/plain": [
              "((1914,), (1914, 1))"
            ]
          },
          "metadata": {
            "tags": []
          },
          "execution_count": 22
        }
      ]
    },
    {
      "cell_type": "code",
      "metadata": {
        "colab": {
          "base_uri": "https://localhost:8080/",
          "height": 203
        },
        "id": "ce5e4de7",
        "outputId": "02207a92-1c92-4c2e-c1cf-60e3fd13b195"
      },
      "source": [
        "my_dict={\"Actual\":y_test, \n",
        "         \"Pred\":y_pred.reshape(-1,)}\n",
        "\n",
        "compare=pd.DataFrame(my_dict)\n",
        "compare.sample(5)"
      ],
      "id": "ce5e4de7",
      "execution_count": 23,
      "outputs": [
        {
          "output_type": "execute_result",
          "data": {
            "text/html": [
              "<div>\n",
              "<style scoped>\n",
              "    .dataframe tbody tr th:only-of-type {\n",
              "        vertical-align: middle;\n",
              "    }\n",
              "\n",
              "    .dataframe tbody tr th {\n",
              "        vertical-align: top;\n",
              "    }\n",
              "\n",
              "    .dataframe thead th {\n",
              "        text-align: right;\n",
              "    }\n",
              "</style>\n",
              "<table border=\"1\" class=\"dataframe\">\n",
              "  <thead>\n",
              "    <tr style=\"text-align: right;\">\n",
              "      <th></th>\n",
              "      <th>Actual</th>\n",
              "      <th>Pred</th>\n",
              "    </tr>\n",
              "  </thead>\n",
              "  <tbody>\n",
              "    <tr>\n",
              "      <th>1385</th>\n",
              "      <td>448.32</td>\n",
              "      <td>446.378601</td>\n",
              "    </tr>\n",
              "    <tr>\n",
              "      <th>86</th>\n",
              "      <td>477.07</td>\n",
              "      <td>477.417328</td>\n",
              "    </tr>\n",
              "    <tr>\n",
              "      <th>267</th>\n",
              "      <td>487.94</td>\n",
              "      <td>484.152405</td>\n",
              "    </tr>\n",
              "    <tr>\n",
              "      <th>1496</th>\n",
              "      <td>425.18</td>\n",
              "      <td>427.692078</td>\n",
              "    </tr>\n",
              "    <tr>\n",
              "      <th>1881</th>\n",
              "      <td>432.64</td>\n",
              "      <td>434.943848</td>\n",
              "    </tr>\n",
              "  </tbody>\n",
              "</table>\n",
              "</div>"
            ],
            "text/plain": [
              "      Actual        Pred\n",
              "1385  448.32  446.378601\n",
              "86    477.07  477.417328\n",
              "267   487.94  484.152405\n",
              "1496  425.18  427.692078\n",
              "1881  432.64  434.943848"
            ]
          },
          "metadata": {
            "tags": []
          },
          "execution_count": 23
        }
      ]
    },
    {
      "cell_type": "code",
      "metadata": {
        "colab": {
          "base_uri": "https://localhost:8080/",
          "height": 265
        },
        "id": "668d5f38",
        "outputId": "c5caff31-081f-4741-ff6a-145964e9d7d5"
      },
      "source": [
        "plt.scatter(compare.Actual,compare.Pred)\n",
        "plt.plot(compare.Actual,compare.Actual,'r');"
      ],
      "id": "668d5f38",
      "execution_count": 24,
      "outputs": [
        {
          "output_type": "display_data",
          "data": {
            "image/png": "[encoded data removed]",
            "text/plain": [
              "<Figure size 432x288 with 1 Axes>"
            ]
          },
          "metadata": {
            "tags": [],
            "needs_background": "light"
          }
        }
      ]
    },
    {
      "cell_type": "code",
      "metadata": {
        "colab": {
          "base_uri": "https://localhost:8080/",
          "height": 279
        },
        "id": "8ae5f11c",
        "outputId": "fc52634b-8f43-429d-90f6-ecd7c572c96e"
      },
      "source": [
        "plt.figure(figsize=(15,4))\n",
        "compare['Error'] = compare['Actual'] - compare['Pred']\n",
        "sns.distplot(compare['Error'],kde=True,bins=100);"
      ],
      "id": "8ae5f11c",
      "execution_count": 25,
      "outputs": [
        {
          "output_type": "display_data",
          "data": {
            "image/png": "[encoded data removed]",
            "text/plain": [
              "<Figure size 1080x288 with 1 Axes>"
            ]
          },
          "metadata": {
            "tags": [],
            "needs_background": "light"
          }
        }
      ]
    },
    {
      "cell_type": "markdown",
      "metadata": {
        "id": "e797b889"
      },
      "source": [
        "# Results\n",
        "- A model with artificial neural networks was trained. 0.93 (test data) R2 Scored with best tuninng parameters was gotten.\n",
        "- 4 input neurons and 1 output neuron were used. There was no hidden neuron.\n",
        "- `early_stop` was used to save time in model training."
      ],
      "id": "e797b889"
    }
  ]
}