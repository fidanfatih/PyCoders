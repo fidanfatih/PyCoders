{
  "nbformat": 4,
  "nbformat_minor": 5,
  "metadata": {
    "kernelspec": {
      "display_name": "Python 3",
      "language": "python",
      "name": "python3"
    },
    "language_info": {
      "codemirror_mode": {
        "name": "ipython",
        "version": 3
      },
      "file_extension": ".py",
      "mimetype": "text/x-python",
      "name": "python",
      "nbconvert_exporter": "python",
      "pygments_lexer": "ipython3",
      "version": "3.8.5"
    },
    "colab": {
      "name": "week-26_weather.ipynb",
      "provenance": []
    }
  },
  "cells": [
    {
      "cell_type": "markdown",
      "metadata": {
        "id": "7794358e"
      },
      "source": [
        "**3 - Bonus: Try to predict whether it rains or not in Australia with a neural network.**\n",
        "https://www.kaggle.com/jsphyg/weather-dataset-rattle-package\n",
        "\n",
        "After you have done your assignment, you have to upload the links of Colab or Kaggle into Github."
      ],
      "id": "7794358e"
    },
    {
      "cell_type": "code",
      "metadata": {
        "id": "18e0bf2c"
      },
      "source": [
        "import pandas as pd\n",
        "import numpy as np\n",
        "import matplotlib.pyplot as plt\n",
        "import seaborn as sns\n",
        "\n",
        "# from sklearn.metrics import mean_squared_error,mean_absolute_error,r2_score, explained_variance_score\n",
        "from sklearn.metrics import classification_report,confusion_matrix, f1_score, recall_score, accuracy_score\n",
        "from sklearn.model_selection import train_test_split\n",
        "from sklearn.preprocessing import MinMaxScaler, RobustScaler, StandardScaler\n",
        "\n",
        "import tensorflow as tf\n",
        "from tensorflow.keras.models import Sequential, load_model\n",
        "from tensorflow.keras.layers import Dense, Activation,Dropout\n",
        "from tensorflow.keras.optimizers import Adam\n",
        "from tensorflow.keras.callbacks import EarlyStopping\n",
        "\n",
        "import warnings\n",
        "warnings.filterwarnings('ignore')\n",
        "\n",
        "# might be needed depending on your version of Jupyter\n",
        "%matplotlib inline"
      ],
      "id": "18e0bf2c",
      "execution_count": 38,
      "outputs": []
    },
    {
      "cell_type": "code",
      "metadata": {
        "colab": {
          "base_uri": "https://localhost:8080/",
          "height": 437
        },
        "id": "4b060112",
        "outputId": "fe3224b2-471a-474c-abf2-b7e05f512dd6"
      },
      "source": [
        "df = pd.read_csv(\"weather_cleandata_noOutlier.csv\",index_col=[0])\n",
        "df"
      ],
      "id": "4b060112",
      "execution_count": 39,
      "outputs": [
        {
          "output_type": "execute_result",
          "data": {
            "text/html": [
              "<div>\n",
              "<style scoped>\n",
              "    .dataframe tbody tr th:only-of-type {\n",
              "        vertical-align: middle;\n",
              "    }\n",
              "\n",
              "    .dataframe tbody tr th {\n",
              "        vertical-align: top;\n",
              "    }\n",
              "\n",
              "    .dataframe thead th {\n",
              "        text-align: right;\n",
              "    }\n",
              "</style>\n",
              "<table border=\"1\" class=\"dataframe\">\n",
              "  <thead>\n",
              "    <tr style=\"text-align: right;\">\n",
              "      <th></th>\n",
              "      <th>MinTemp</th>\n",
              "      <th>MaxTemp</th>\n",
              "      <th>Rainfall</th>\n",
              "      <th>Evaporation</th>\n",
              "      <th>Sunshine</th>\n",
              "      <th>WindGustSpeed</th>\n",
              "      <th>WindSpeed9am</th>\n",
              "      <th>WindSpeed3pm</th>\n",
              "      <th>Humidity9am</th>\n",
              "      <th>Humidity3pm</th>\n",
              "      <th>Pressure9am</th>\n",
              "      <th>Pressure3pm</th>\n",
              "      <th>Cloud9am</th>\n",
              "      <th>Cloud3pm</th>\n",
              "      <th>Temp9am</th>\n",
              "      <th>Temp3pm</th>\n",
              "      <th>RainToday</th>\n",
              "      <th>Month</th>\n",
              "      <th>DiffTemp</th>\n",
              "      <th>RainTomorrow</th>\n",
              "    </tr>\n",
              "  </thead>\n",
              "  <tbody>\n",
              "    <tr>\n",
              "      <th>0</th>\n",
              "      <td>13.4</td>\n",
              "      <td>22.9</td>\n",
              "      <td>0.6</td>\n",
              "      <td>9.24</td>\n",
              "      <td>8.92</td>\n",
              "      <td>44.0</td>\n",
              "      <td>20.0</td>\n",
              "      <td>24.0</td>\n",
              "      <td>71.0</td>\n",
              "      <td>22.0</td>\n",
              "      <td>1007.7</td>\n",
              "      <td>1007.1</td>\n",
              "      <td>8.0</td>\n",
              "      <td>3.8</td>\n",
              "      <td>16.9</td>\n",
              "      <td>21.8</td>\n",
              "      <td>0.0</td>\n",
              "      <td>12.0</td>\n",
              "      <td>9.5</td>\n",
              "      <td>0.0</td>\n",
              "    </tr>\n",
              "    <tr>\n",
              "      <th>1</th>\n",
              "      <td>7.4</td>\n",
              "      <td>25.1</td>\n",
              "      <td>0.0</td>\n",
              "      <td>7.68</td>\n",
              "      <td>10.36</td>\n",
              "      <td>44.0</td>\n",
              "      <td>4.0</td>\n",
              "      <td>22.0</td>\n",
              "      <td>44.0</td>\n",
              "      <td>25.0</td>\n",
              "      <td>1010.6</td>\n",
              "      <td>1007.8</td>\n",
              "      <td>2.2</td>\n",
              "      <td>3.0</td>\n",
              "      <td>17.2</td>\n",
              "      <td>24.3</td>\n",
              "      <td>0.0</td>\n",
              "      <td>12.0</td>\n",
              "      <td>17.7</td>\n",
              "      <td>0.0</td>\n",
              "    </tr>\n",
              "    <tr>\n",
              "      <th>2</th>\n",
              "      <td>12.9</td>\n",
              "      <td>25.7</td>\n",
              "      <td>0.0</td>\n",
              "      <td>10.48</td>\n",
              "      <td>11.02</td>\n",
              "      <td>46.0</td>\n",
              "      <td>19.0</td>\n",
              "      <td>26.0</td>\n",
              "      <td>38.0</td>\n",
              "      <td>30.0</td>\n",
              "      <td>1007.6</td>\n",
              "      <td>1008.7</td>\n",
              "      <td>2.8</td>\n",
              "      <td>2.0</td>\n",
              "      <td>21.0</td>\n",
              "      <td>23.2</td>\n",
              "      <td>0.0</td>\n",
              "      <td>12.0</td>\n",
              "      <td>12.8</td>\n",
              "      <td>0.0</td>\n",
              "    </tr>\n",
              "    <tr>\n",
              "      <th>3</th>\n",
              "      <td>9.2</td>\n",
              "      <td>28.0</td>\n",
              "      <td>0.0</td>\n",
              "      <td>10.00</td>\n",
              "      <td>12.22</td>\n",
              "      <td>24.0</td>\n",
              "      <td>11.0</td>\n",
              "      <td>9.0</td>\n",
              "      <td>45.0</td>\n",
              "      <td>16.0</td>\n",
              "      <td>1017.6</td>\n",
              "      <td>1012.8</td>\n",
              "      <td>2.4</td>\n",
              "      <td>4.0</td>\n",
              "      <td>18.1</td>\n",
              "      <td>26.5</td>\n",
              "      <td>0.0</td>\n",
              "      <td>12.0</td>\n",
              "      <td>18.8</td>\n",
              "      <td>0.0</td>\n",
              "    </tr>\n",
              "    <tr>\n",
              "      <th>4</th>\n",
              "      <td>17.5</td>\n",
              "      <td>32.3</td>\n",
              "      <td>1.0</td>\n",
              "      <td>5.64</td>\n",
              "      <td>8.26</td>\n",
              "      <td>41.0</td>\n",
              "      <td>7.0</td>\n",
              "      <td>20.0</td>\n",
              "      <td>82.0</td>\n",
              "      <td>33.0</td>\n",
              "      <td>1010.8</td>\n",
              "      <td>1006.0</td>\n",
              "      <td>7.0</td>\n",
              "      <td>8.0</td>\n",
              "      <td>17.8</td>\n",
              "      <td>29.7</td>\n",
              "      <td>0.0</td>\n",
              "      <td>12.0</td>\n",
              "      <td>14.8</td>\n",
              "      <td>0.0</td>\n",
              "    </tr>\n",
              "    <tr>\n",
              "      <th>...</th>\n",
              "      <td>...</td>\n",
              "      <td>...</td>\n",
              "      <td>...</td>\n",
              "      <td>...</td>\n",
              "      <td>...</td>\n",
              "      <td>...</td>\n",
              "      <td>...</td>\n",
              "      <td>...</td>\n",
              "      <td>...</td>\n",
              "      <td>...</td>\n",
              "      <td>...</td>\n",
              "      <td>...</td>\n",
              "      <td>...</td>\n",
              "      <td>...</td>\n",
              "      <td>...</td>\n",
              "      <td>...</td>\n",
              "      <td>...</td>\n",
              "      <td>...</td>\n",
              "      <td>...</td>\n",
              "      <td>...</td>\n",
              "    </tr>\n",
              "    <tr>\n",
              "      <th>126703</th>\n",
              "      <td>3.5</td>\n",
              "      <td>21.8</td>\n",
              "      <td>0.0</td>\n",
              "      <td>4.12</td>\n",
              "      <td>10.88</td>\n",
              "      <td>31.0</td>\n",
              "      <td>15.0</td>\n",
              "      <td>13.0</td>\n",
              "      <td>59.0</td>\n",
              "      <td>27.0</td>\n",
              "      <td>1024.7</td>\n",
              "      <td>1021.2</td>\n",
              "      <td>1.6</td>\n",
              "      <td>1.6</td>\n",
              "      <td>9.4</td>\n",
              "      <td>20.9</td>\n",
              "      <td>0.0</td>\n",
              "      <td>6.0</td>\n",
              "      <td>18.3</td>\n",
              "      <td>0.0</td>\n",
              "    </tr>\n",
              "    <tr>\n",
              "      <th>126704</th>\n",
              "      <td>2.8</td>\n",
              "      <td>23.4</td>\n",
              "      <td>0.0</td>\n",
              "      <td>3.80</td>\n",
              "      <td>9.78</td>\n",
              "      <td>31.0</td>\n",
              "      <td>13.0</td>\n",
              "      <td>11.0</td>\n",
              "      <td>51.0</td>\n",
              "      <td>24.0</td>\n",
              "      <td>1024.6</td>\n",
              "      <td>1020.3</td>\n",
              "      <td>2.4</td>\n",
              "      <td>1.4</td>\n",
              "      <td>10.1</td>\n",
              "      <td>22.4</td>\n",
              "      <td>0.0</td>\n",
              "      <td>6.0</td>\n",
              "      <td>20.6</td>\n",
              "      <td>0.0</td>\n",
              "    </tr>\n",
              "    <tr>\n",
              "      <th>126705</th>\n",
              "      <td>3.6</td>\n",
              "      <td>25.3</td>\n",
              "      <td>0.0</td>\n",
              "      <td>4.32</td>\n",
              "      <td>10.20</td>\n",
              "      <td>22.0</td>\n",
              "      <td>13.0</td>\n",
              "      <td>9.0</td>\n",
              "      <td>56.0</td>\n",
              "      <td>21.0</td>\n",
              "      <td>1023.5</td>\n",
              "      <td>1019.1</td>\n",
              "      <td>0.6</td>\n",
              "      <td>1.6</td>\n",
              "      <td>10.9</td>\n",
              "      <td>24.5</td>\n",
              "      <td>0.0</td>\n",
              "      <td>6.0</td>\n",
              "      <td>21.7</td>\n",
              "      <td>0.0</td>\n",
              "    </tr>\n",
              "    <tr>\n",
              "      <th>126706</th>\n",
              "      <td>5.4</td>\n",
              "      <td>26.9</td>\n",
              "      <td>0.0</td>\n",
              "      <td>4.48</td>\n",
              "      <td>11.22</td>\n",
              "      <td>37.0</td>\n",
              "      <td>9.0</td>\n",
              "      <td>9.0</td>\n",
              "      <td>53.0</td>\n",
              "      <td>24.0</td>\n",
              "      <td>1021.0</td>\n",
              "      <td>1016.8</td>\n",
              "      <td>2.6</td>\n",
              "      <td>3.6</td>\n",
              "      <td>12.5</td>\n",
              "      <td>26.1</td>\n",
              "      <td>0.0</td>\n",
              "      <td>6.0</td>\n",
              "      <td>21.5</td>\n",
              "      <td>0.0</td>\n",
              "    </tr>\n",
              "    <tr>\n",
              "      <th>126707</th>\n",
              "      <td>7.8</td>\n",
              "      <td>27.0</td>\n",
              "      <td>0.0</td>\n",
              "      <td>5.24</td>\n",
              "      <td>10.62</td>\n",
              "      <td>28.0</td>\n",
              "      <td>13.0</td>\n",
              "      <td>7.0</td>\n",
              "      <td>51.0</td>\n",
              "      <td>24.0</td>\n",
              "      <td>1019.4</td>\n",
              "      <td>1016.5</td>\n",
              "      <td>3.0</td>\n",
              "      <td>2.0</td>\n",
              "      <td>15.1</td>\n",
              "      <td>26.0</td>\n",
              "      <td>0.0</td>\n",
              "      <td>6.0</td>\n",
              "      <td>19.2</td>\n",
              "      <td>0.0</td>\n",
              "    </tr>\n",
              "  </tbody>\n",
              "</table>\n",
              "<p>126708 rows × 20 columns</p>\n",
              "</div>"
            ],
            "text/plain": [
              "        MinTemp  MaxTemp  Rainfall  ...  Month  DiffTemp  RainTomorrow\n",
              "0          13.4     22.9       0.6  ...   12.0       9.5           0.0\n",
              "1           7.4     25.1       0.0  ...   12.0      17.7           0.0\n",
              "2          12.9     25.7       0.0  ...   12.0      12.8           0.0\n",
              "3           9.2     28.0       0.0  ...   12.0      18.8           0.0\n",
              "4          17.5     32.3       1.0  ...   12.0      14.8           0.0\n",
              "...         ...      ...       ...  ...    ...       ...           ...\n",
              "126703      3.5     21.8       0.0  ...    6.0      18.3           0.0\n",
              "126704      2.8     23.4       0.0  ...    6.0      20.6           0.0\n",
              "126705      3.6     25.3       0.0  ...    6.0      21.7           0.0\n",
              "126706      5.4     26.9       0.0  ...    6.0      21.5           0.0\n",
              "126707      7.8     27.0       0.0  ...    6.0      19.2           0.0\n",
              "\n",
              "[126708 rows x 20 columns]"
            ]
          },
          "metadata": {
            "tags": []
          },
          "execution_count": 39
        }
      ]
    },
    {
      "cell_type": "code",
      "metadata": {
        "colab": {
          "base_uri": "https://localhost:8080/"
        },
        "id": "0edcce8d",
        "outputId": "5d2fadf0-31b1-47e2-f5b7-fb0c975ec57d"
      },
      "source": [
        "df.info()"
      ],
      "id": "0edcce8d",
      "execution_count": 40,
      "outputs": [
        {
          "output_type": "stream",
          "text": [
            "<class 'pandas.core.frame.DataFrame'>\n",
            "Int64Index: 126708 entries, 0 to 126707\n",
            "Data columns (total 20 columns):\n",
            " #   Column         Non-Null Count   Dtype  \n",
            "---  ------         --------------   -----  \n",
            " 0   MinTemp        126708 non-null  float64\n",
            " 1   MaxTemp        126708 non-null  float64\n",
            " 2   Rainfall       126708 non-null  float64\n",
            " 3   Evaporation    126708 non-null  float64\n",
            " 4   Sunshine       126708 non-null  float64\n",
            " 5   WindGustSpeed  126708 non-null  float64\n",
            " 6   WindSpeed9am   126708 non-null  float64\n",
            " 7   WindSpeed3pm   126708 non-null  float64\n",
            " 8   Humidity9am    126708 non-null  float64\n",
            " 9   Humidity3pm    126708 non-null  float64\n",
            " 10  Pressure9am    126708 non-null  float64\n",
            " 11  Pressure3pm    126708 non-null  float64\n",
            " 12  Cloud9am       126708 non-null  float64\n",
            " 13  Cloud3pm       126708 non-null  float64\n",
            " 14  Temp9am        126708 non-null  float64\n",
            " 15  Temp3pm        126708 non-null  float64\n",
            " 16  RainToday      126708 non-null  float64\n",
            " 17  Month          126708 non-null  float64\n",
            " 18  DiffTemp       126708 non-null  float64\n",
            " 19  RainTomorrow   126708 non-null  float64\n",
            "dtypes: float64(20)\n",
            "memory usage: 20.3 MB\n"
          ],
          "name": "stdout"
        }
      ]
    },
    {
      "cell_type": "code",
      "metadata": {
        "colab": {
          "base_uri": "https://localhost:8080/",
          "height": 665
        },
        "id": "66651779",
        "outputId": "72ab9130-111e-44e0-ac40-d90bf3fd4954"
      },
      "source": [
        "df.describe().T"
      ],
      "id": "66651779",
      "execution_count": 41,
      "outputs": [
        {
          "output_type": "execute_result",
          "data": {
            "text/html": [
              "<div>\n",
              "<style scoped>\n",
              "    .dataframe tbody tr th:only-of-type {\n",
              "        vertical-align: middle;\n",
              "    }\n",
              "\n",
              "    .dataframe tbody tr th {\n",
              "        vertical-align: top;\n",
              "    }\n",
              "\n",
              "    .dataframe thead th {\n",
              "        text-align: right;\n",
              "    }\n",
              "</style>\n",
              "<table border=\"1\" class=\"dataframe\">\n",
              "  <thead>\n",
              "    <tr style=\"text-align: right;\">\n",
              "      <th></th>\n",
              "      <th>count</th>\n",
              "      <th>mean</th>\n",
              "      <th>std</th>\n",
              "      <th>min</th>\n",
              "      <th>25%</th>\n",
              "      <th>50%</th>\n",
              "      <th>75%</th>\n",
              "      <th>max</th>\n",
              "    </tr>\n",
              "  </thead>\n",
              "  <tbody>\n",
              "    <tr>\n",
              "      <th>MinTemp</th>\n",
              "      <td>126708.0</td>\n",
              "      <td>11.854421</td>\n",
              "      <td>6.048907</td>\n",
              "      <td>-8.2</td>\n",
              "      <td>7.5</td>\n",
              "      <td>11.70</td>\n",
              "      <td>16.2</td>\n",
              "      <td>29.7</td>\n",
              "    </tr>\n",
              "    <tr>\n",
              "      <th>MaxTemp</th>\n",
              "      <td>126708.0</td>\n",
              "      <td>23.010345</td>\n",
              "      <td>6.381927</td>\n",
              "      <td>1.2</td>\n",
              "      <td>18.1</td>\n",
              "      <td>22.50</td>\n",
              "      <td>27.7</td>\n",
              "      <td>45.5</td>\n",
              "    </tr>\n",
              "    <tr>\n",
              "      <th>Rainfall</th>\n",
              "      <td>126708.0</td>\n",
              "      <td>1.303948</td>\n",
              "      <td>4.058308</td>\n",
              "      <td>0.0</td>\n",
              "      <td>0.0</td>\n",
              "      <td>0.00</td>\n",
              "      <td>0.4</td>\n",
              "      <td>114.4</td>\n",
              "    </tr>\n",
              "    <tr>\n",
              "      <th>Evaporation</th>\n",
              "      <td>126708.0</td>\n",
              "      <td>4.875529</td>\n",
              "      <td>3.157937</td>\n",
              "      <td>0.0</td>\n",
              "      <td>2.6</td>\n",
              "      <td>4.36</td>\n",
              "      <td>6.6</td>\n",
              "      <td>74.8</td>\n",
              "    </tr>\n",
              "    <tr>\n",
              "      <th>Sunshine</th>\n",
              "      <td>126708.0</td>\n",
              "      <td>7.680305</td>\n",
              "      <td>3.410701</td>\n",
              "      <td>0.0</td>\n",
              "      <td>5.2</td>\n",
              "      <td>8.32</td>\n",
              "      <td>10.4</td>\n",
              "      <td>14.5</td>\n",
              "    </tr>\n",
              "    <tr>\n",
              "      <th>WindGustSpeed</th>\n",
              "      <td>126708.0</td>\n",
              "      <td>38.446704</td>\n",
              "      <td>12.119230</td>\n",
              "      <td>7.0</td>\n",
              "      <td>30.0</td>\n",
              "      <td>37.00</td>\n",
              "      <td>46.0</td>\n",
              "      <td>120.0</td>\n",
              "    </tr>\n",
              "    <tr>\n",
              "      <th>WindSpeed9am</th>\n",
              "      <td>126708.0</td>\n",
              "      <td>13.430500</td>\n",
              "      <td>8.238609</td>\n",
              "      <td>0.0</td>\n",
              "      <td>7.0</td>\n",
              "      <td>13.00</td>\n",
              "      <td>19.0</td>\n",
              "      <td>63.0</td>\n",
              "    </tr>\n",
              "    <tr>\n",
              "      <th>WindSpeed3pm</th>\n",
              "      <td>126708.0</td>\n",
              "      <td>18.212509</td>\n",
              "      <td>8.177845</td>\n",
              "      <td>0.0</td>\n",
              "      <td>13.0</td>\n",
              "      <td>17.00</td>\n",
              "      <td>24.0</td>\n",
              "      <td>78.0</td>\n",
              "    </tr>\n",
              "    <tr>\n",
              "      <th>Humidity9am</th>\n",
              "      <td>126708.0</td>\n",
              "      <td>69.050963</td>\n",
              "      <td>17.678303</td>\n",
              "      <td>2.0</td>\n",
              "      <td>57.0</td>\n",
              "      <td>70.00</td>\n",
              "      <td>82.0</td>\n",
              "      <td>100.0</td>\n",
              "    </tr>\n",
              "    <tr>\n",
              "      <th>Humidity3pm</th>\n",
              "      <td>126708.0</td>\n",
              "      <td>50.943906</td>\n",
              "      <td>19.238580</td>\n",
              "      <td>1.0</td>\n",
              "      <td>37.0</td>\n",
              "      <td>51.00</td>\n",
              "      <td>64.0</td>\n",
              "      <td>100.0</td>\n",
              "    </tr>\n",
              "    <tr>\n",
              "      <th>Pressure9am</th>\n",
              "      <td>126708.0</td>\n",
              "      <td>1018.460366</td>\n",
              "      <td>6.401530</td>\n",
              "      <td>986.7</td>\n",
              "      <td>1014.2</td>\n",
              "      <td>1018.40</td>\n",
              "      <td>1022.7</td>\n",
              "      <td>1041.0</td>\n",
              "    </tr>\n",
              "    <tr>\n",
              "      <th>Pressure3pm</th>\n",
              "      <td>126708.0</td>\n",
              "      <td>1016.008892</td>\n",
              "      <td>6.356156</td>\n",
              "      <td>980.2</td>\n",
              "      <td>1011.7</td>\n",
              "      <td>1015.90</td>\n",
              "      <td>1020.2</td>\n",
              "      <td>1038.9</td>\n",
              "    </tr>\n",
              "    <tr>\n",
              "      <th>Cloud9am</th>\n",
              "      <td>126708.0</td>\n",
              "      <td>4.259395</td>\n",
              "      <td>2.643085</td>\n",
              "      <td>0.0</td>\n",
              "      <td>1.8</td>\n",
              "      <td>4.40</td>\n",
              "      <td>7.0</td>\n",
              "      <td>9.0</td>\n",
              "    </tr>\n",
              "    <tr>\n",
              "      <th>Cloud3pm</th>\n",
              "      <td>126708.0</td>\n",
              "      <td>4.315464</td>\n",
              "      <td>2.447874</td>\n",
              "      <td>0.0</td>\n",
              "      <td>2.0</td>\n",
              "      <td>4.40</td>\n",
              "      <td>6.8</td>\n",
              "      <td>9.0</td>\n",
              "    </tr>\n",
              "    <tr>\n",
              "      <th>Temp9am</th>\n",
              "      <td>126708.0</td>\n",
              "      <td>16.675795</td>\n",
              "      <td>5.965610</td>\n",
              "      <td>-3.1</td>\n",
              "      <td>12.3</td>\n",
              "      <td>16.50</td>\n",
              "      <td>21.0</td>\n",
              "      <td>36.5</td>\n",
              "    </tr>\n",
              "    <tr>\n",
              "      <th>Temp3pm</th>\n",
              "      <td>126708.0</td>\n",
              "      <td>21.541782</td>\n",
              "      <td>6.235150</td>\n",
              "      <td>-0.3</td>\n",
              "      <td>16.8</td>\n",
              "      <td>21.00</td>\n",
              "      <td>26.0</td>\n",
              "      <td>43.9</td>\n",
              "    </tr>\n",
              "    <tr>\n",
              "      <th>RainToday</th>\n",
              "      <td>126708.0</td>\n",
              "      <td>0.183666</td>\n",
              "      <td>0.387213</td>\n",
              "      <td>0.0</td>\n",
              "      <td>0.0</td>\n",
              "      <td>0.00</td>\n",
              "      <td>0.0</td>\n",
              "      <td>1.0</td>\n",
              "    </tr>\n",
              "    <tr>\n",
              "      <th>Month</th>\n",
              "      <td>126708.0</td>\n",
              "      <td>6.418584</td>\n",
              "      <td>3.351335</td>\n",
              "      <td>1.0</td>\n",
              "      <td>4.0</td>\n",
              "      <td>6.00</td>\n",
              "      <td>9.0</td>\n",
              "      <td>12.0</td>\n",
              "    </tr>\n",
              "    <tr>\n",
              "      <th>DiffTemp</th>\n",
              "      <td>126708.0</td>\n",
              "      <td>11.155522</td>\n",
              "      <td>4.749909</td>\n",
              "      <td>0.1</td>\n",
              "      <td>7.5</td>\n",
              "      <td>10.60</td>\n",
              "      <td>14.5</td>\n",
              "      <td>31.2</td>\n",
              "    </tr>\n",
              "    <tr>\n",
              "      <th>RainTomorrow</th>\n",
              "      <td>126708.0</td>\n",
              "      <td>0.195260</td>\n",
              "      <td>0.396402</td>\n",
              "      <td>0.0</td>\n",
              "      <td>0.0</td>\n",
              "      <td>0.00</td>\n",
              "      <td>0.0</td>\n",
              "      <td>1.0</td>\n",
              "    </tr>\n",
              "  </tbody>\n",
              "</table>\n",
              "</div>"
            ],
            "text/plain": [
              "                  count         mean        std  ...      50%     75%     max\n",
              "MinTemp        126708.0    11.854421   6.048907  ...    11.70    16.2    29.7\n",
              "MaxTemp        126708.0    23.010345   6.381927  ...    22.50    27.7    45.5\n",
              "Rainfall       126708.0     1.303948   4.058308  ...     0.00     0.4   114.4\n",
              "Evaporation    126708.0     4.875529   3.157937  ...     4.36     6.6    74.8\n",
              "Sunshine       126708.0     7.680305   3.410701  ...     8.32    10.4    14.5\n",
              "WindGustSpeed  126708.0    38.446704  12.119230  ...    37.00    46.0   120.0\n",
              "WindSpeed9am   126708.0    13.430500   8.238609  ...    13.00    19.0    63.0\n",
              "WindSpeed3pm   126708.0    18.212509   8.177845  ...    17.00    24.0    78.0\n",
              "Humidity9am    126708.0    69.050963  17.678303  ...    70.00    82.0   100.0\n",
              "Humidity3pm    126708.0    50.943906  19.238580  ...    51.00    64.0   100.0\n",
              "Pressure9am    126708.0  1018.460366   6.401530  ...  1018.40  1022.7  1041.0\n",
              "Pressure3pm    126708.0  1016.008892   6.356156  ...  1015.90  1020.2  1038.9\n",
              "Cloud9am       126708.0     4.259395   2.643085  ...     4.40     7.0     9.0\n",
              "Cloud3pm       126708.0     4.315464   2.447874  ...     4.40     6.8     9.0\n",
              "Temp9am        126708.0    16.675795   5.965610  ...    16.50    21.0    36.5\n",
              "Temp3pm        126708.0    21.541782   6.235150  ...    21.00    26.0    43.9\n",
              "RainToday      126708.0     0.183666   0.387213  ...     0.00     0.0     1.0\n",
              "Month          126708.0     6.418584   3.351335  ...     6.00     9.0    12.0\n",
              "DiffTemp       126708.0    11.155522   4.749909  ...    10.60    14.5    31.2\n",
              "RainTomorrow   126708.0     0.195260   0.396402  ...     0.00     0.0     1.0\n",
              "\n",
              "[20 rows x 8 columns]"
            ]
          },
          "metadata": {
            "tags": []
          },
          "execution_count": 41
        }
      ]
    },
    {
      "cell_type": "code",
      "metadata": {
        "id": "2acd4d2d"
      },
      "source": [
        "X=df.iloc[:,:-1].values\n",
        "y=df.iloc[:,-1].values"
      ],
      "id": "2acd4d2d",
      "execution_count": 42,
      "outputs": []
    },
    {
      "cell_type": "code",
      "metadata": {
        "id": "f2742322"
      },
      "source": [
        "from sklearn.model_selection import train_test_split\n",
        "X_train, X_test, y_train, y_test = train_test_split(X,y,test_size=0.2,random_state=42)"
      ],
      "id": "f2742322",
      "execution_count": 43,
      "outputs": []
    },
    {
      "cell_type": "code",
      "metadata": {
        "colab": {
          "base_uri": "https://localhost:8080/"
        },
        "id": "2e2729db",
        "outputId": "4737a14c-dce9-46fc-ea80-e11272b04d33"
      },
      "source": [
        "X_train.shape, y_train.shape"
      ],
      "id": "2e2729db",
      "execution_count": 44,
      "outputs": [
        {
          "output_type": "execute_result",
          "data": {
            "text/plain": [
              "((101366, 19), (101366,))"
            ]
          },
          "metadata": {
            "tags": []
          },
          "execution_count": 44
        }
      ]
    },
    {
      "cell_type": "code",
      "metadata": {
        "id": "79529f67"
      },
      "source": [
        "from sklearn.preprocessing import StandardScaler\n",
        "sc = StandardScaler()\n",
        "X_train = sc.fit_transform(X_train)\n",
        "X_test = sc.transform(X_test)"
      ],
      "id": "79529f67",
      "execution_count": 45,
      "outputs": []
    },
    {
      "cell_type": "code",
      "metadata": {
        "id": "f6f515cd"
      },
      "source": [
        "# from sklearn.preprocessing import RobustScaler\n",
        "# sc = RobustScaler()\n",
        "# X_train = sc.fit_transform(X_train)\n",
        "# X_test = sc.transform(X_test)"
      ],
      "id": "f6f515cd",
      "execution_count": 46,
      "outputs": []
    },
    {
      "cell_type": "code",
      "metadata": {
        "id": "db497df3"
      },
      "source": [
        "from tensorflow.keras.layers import Dropout\n",
        "# DropOut: belirlediğimiz oranda nöronları pasifleştiriyor"
      ],
      "id": "db497df3",
      "execution_count": 47,
      "outputs": []
    },
    {
      "cell_type": "code",
      "metadata": {
        "id": "55900127"
      },
      "source": [
        "model = Sequential()\n",
        "# https://stats.stackexchange.com/questions/181/how-to-choose-the-number-of-hidden-layers-and-nodes-in-a-feedforward-neural-netw\n",
        "model.add(Dense(19,activation='relu'))\n",
        "model.add(Dropout(0.5))\n",
        "\n",
        "model.add(Dense(10,activation='relu'))\n",
        "model.add(Dropout(0.5))\n",
        "\n",
        "model.add(Dense(1,activation='sigmoid')) # binary classification oldugu icin outbut layer Dense 1 secilir, aktivation function sigmoid.\n",
        "\n",
        "# For a binary classification problem\n",
        "model.compile(loss='binary_crossentropy', optimizer='adam',metrics=[\"accuracy\"])"
      ],
      "id": "55900127",
      "execution_count": 48,
      "outputs": []
    },
    {
      "cell_type": "code",
      "metadata": {
        "scrolled": true,
        "colab": {
          "base_uri": "https://localhost:8080/"
        },
        "id": "07aae0d2",
        "outputId": "2f10a2d6-c4bb-4b97-e2bc-e550ee2a5b90"
      },
      "source": [
        "# https://stats.stackexchange.com/questions/164876/tradeoff-batch-size-vs-number-of-iterations-to-train-a-neural-network\n",
        "# https://datascience.stackexchange.com/questions/18414/are-there-any-rules-for-choosing-the-size-of-a-mini-batch\n",
        "early_stop = EarlyStopping(monitor='val_loss', mode='min', verbose=1, patience=15) # loss azalan birsey oldugu icin min secilir, accuracy monite edilseydi max yazilirdi.\n",
        "model.fit(x=X_train, \n",
        "          y=y_train, \n",
        "          epochs=350,\n",
        "          batch_size=32,\n",
        "          validation_data=(X_test, y_test), verbose=1,\n",
        "          callbacks=[early_stop]\n",
        "          )"
      ],
      "id": "07aae0d2",
      "execution_count": 49,
      "outputs": [
        {
          "output_type": "stream",
          "text": [
            "Epoch 1/350\n",
            "3168/3168 [==============================] - 6s 2ms/step - loss: 0.4286 - accuracy: 0.8071 - val_loss: 0.3718 - val_accuracy: 0.8079\n",
            "Epoch 2/350\n",
            "3168/3168 [==============================] - 6s 2ms/step - loss: 0.3892 - accuracy: 0.8276 - val_loss: 0.3545 - val_accuracy: 0.8457\n",
            "Epoch 3/350\n",
            "3168/3168 [==============================] - 6s 2ms/step - loss: 0.3812 - accuracy: 0.8323 - val_loss: 0.3518 - val_accuracy: 0.8476\n",
            "Epoch 4/350\n",
            "3168/3168 [==============================] - 6s 2ms/step - loss: 0.3783 - accuracy: 0.8348 - val_loss: 0.3511 - val_accuracy: 0.8464\n",
            "Epoch 5/350\n",
            "3168/3168 [==============================] - 6s 2ms/step - loss: 0.3759 - accuracy: 0.8355 - val_loss: 0.3524 - val_accuracy: 0.8456\n",
            "Epoch 6/350\n",
            "3168/3168 [==============================] - 6s 2ms/step - loss: 0.3742 - accuracy: 0.8365 - val_loss: 0.3500 - val_accuracy: 0.8463\n",
            "Epoch 7/350\n",
            "3168/3168 [==============================] - 6s 2ms/step - loss: 0.3730 - accuracy: 0.8374 - val_loss: 0.3497 - val_accuracy: 0.8469\n",
            "Epoch 8/350\n",
            "3168/3168 [==============================] - 6s 2ms/step - loss: 0.3735 - accuracy: 0.8376 - val_loss: 0.3498 - val_accuracy: 0.8463\n",
            "Epoch 9/350\n",
            "3168/3168 [==============================] - 6s 2ms/step - loss: 0.3725 - accuracy: 0.8377 - val_loss: 0.3477 - val_accuracy: 0.8482\n",
            "Epoch 10/350\n",
            "3168/3168 [==============================] - 6s 2ms/step - loss: 0.3725 - accuracy: 0.8370 - val_loss: 0.3474 - val_accuracy: 0.8478\n",
            "Epoch 11/350\n",
            "3168/3168 [==============================] - 6s 2ms/step - loss: 0.3727 - accuracy: 0.8370 - val_loss: 0.3468 - val_accuracy: 0.8485\n",
            "Epoch 12/350\n",
            "3168/3168 [==============================] - 6s 2ms/step - loss: 0.3712 - accuracy: 0.8383 - val_loss: 0.3475 - val_accuracy: 0.8472\n",
            "Epoch 13/350\n",
            "3168/3168 [==============================] - 6s 2ms/step - loss: 0.3735 - accuracy: 0.8368 - val_loss: 0.3514 - val_accuracy: 0.8423\n",
            "Epoch 14/350\n",
            "3168/3168 [==============================] - 6s 2ms/step - loss: 0.3713 - accuracy: 0.8384 - val_loss: 0.3502 - val_accuracy: 0.8437\n",
            "Epoch 15/350\n",
            "3168/3168 [==============================] - 6s 2ms/step - loss: 0.3718 - accuracy: 0.8370 - val_loss: 0.3459 - val_accuracy: 0.8486\n",
            "Epoch 16/350\n",
            "3168/3168 [==============================] - 6s 2ms/step - loss: 0.3724 - accuracy: 0.8373 - val_loss: 0.3453 - val_accuracy: 0.8480\n",
            "Epoch 17/350\n",
            "3168/3168 [==============================] - 6s 2ms/step - loss: 0.3718 - accuracy: 0.8383 - val_loss: 0.3465 - val_accuracy: 0.8462\n",
            "Epoch 18/350\n",
            "3168/3168 [==============================] - 6s 2ms/step - loss: 0.3715 - accuracy: 0.8379 - val_loss: 0.3448 - val_accuracy: 0.8491\n",
            "Epoch 19/350\n",
            "3168/3168 [==============================] - 6s 2ms/step - loss: 0.3705 - accuracy: 0.8380 - val_loss: 0.3456 - val_accuracy: 0.8467\n",
            "Epoch 20/350\n",
            "3168/3168 [==============================] - 6s 2ms/step - loss: 0.3718 - accuracy: 0.8368 - val_loss: 0.3450 - val_accuracy: 0.8476\n",
            "Epoch 21/350\n",
            "3168/3168 [==============================] - 6s 2ms/step - loss: 0.3697 - accuracy: 0.8390 - val_loss: 0.3465 - val_accuracy: 0.8460\n",
            "Epoch 22/350\n",
            "3168/3168 [==============================] - 6s 2ms/step - loss: 0.3706 - accuracy: 0.8378 - val_loss: 0.3466 - val_accuracy: 0.8469\n",
            "Epoch 23/350\n",
            "3168/3168 [==============================] - 6s 2ms/step - loss: 0.3716 - accuracy: 0.8373 - val_loss: 0.3447 - val_accuracy: 0.8477\n",
            "Epoch 24/350\n",
            "3168/3168 [==============================] - 6s 2ms/step - loss: 0.3714 - accuracy: 0.8384 - val_loss: 0.3471 - val_accuracy: 0.8467\n",
            "Epoch 25/350\n",
            "3168/3168 [==============================] - 5s 2ms/step - loss: 0.3707 - accuracy: 0.8376 - val_loss: 0.3468 - val_accuracy: 0.8456\n",
            "Epoch 26/350\n",
            "3168/3168 [==============================] - 6s 2ms/step - loss: 0.3704 - accuracy: 0.8375 - val_loss: 0.3452 - val_accuracy: 0.8476\n",
            "Epoch 27/350\n",
            "3168/3168 [==============================] - 6s 2ms/step - loss: 0.3712 - accuracy: 0.8375 - val_loss: 0.3436 - val_accuracy: 0.8480\n",
            "Epoch 28/350\n",
            "3168/3168 [==============================] - 6s 2ms/step - loss: 0.3700 - accuracy: 0.8379 - val_loss: 0.3511 - val_accuracy: 0.8417\n",
            "Epoch 29/350\n",
            "3168/3168 [==============================] - 6s 2ms/step - loss: 0.3715 - accuracy: 0.8358 - val_loss: 0.3468 - val_accuracy: 0.8455\n",
            "Epoch 30/350\n",
            "3168/3168 [==============================] - 6s 2ms/step - loss: 0.3717 - accuracy: 0.8367 - val_loss: 0.3459 - val_accuracy: 0.8475\n",
            "Epoch 31/350\n",
            "3168/3168 [==============================] - 6s 2ms/step - loss: 0.3705 - accuracy: 0.8370 - val_loss: 0.3433 - val_accuracy: 0.8497\n",
            "Epoch 32/350\n",
            "3168/3168 [==============================] - 6s 2ms/step - loss: 0.3708 - accuracy: 0.8375 - val_loss: 0.3452 - val_accuracy: 0.8468\n",
            "Epoch 33/350\n",
            "3168/3168 [==============================] - 6s 2ms/step - loss: 0.3703 - accuracy: 0.8372 - val_loss: 0.3486 - val_accuracy: 0.8440\n",
            "Epoch 34/350\n",
            "3168/3168 [==============================] - 6s 2ms/step - loss: 0.3682 - accuracy: 0.8373 - val_loss: 0.3445 - val_accuracy: 0.8474\n",
            "Epoch 35/350\n",
            "3168/3168 [==============================] - 5s 2ms/step - loss: 0.3709 - accuracy: 0.8368 - val_loss: 0.3477 - val_accuracy: 0.8459\n",
            "Epoch 36/350\n",
            "3168/3168 [==============================] - 6s 2ms/step - loss: 0.3706 - accuracy: 0.8387 - val_loss: 0.3468 - val_accuracy: 0.8460\n",
            "Epoch 37/350\n",
            "3168/3168 [==============================] - 6s 2ms/step - loss: 0.3707 - accuracy: 0.8390 - val_loss: 0.3479 - val_accuracy: 0.8458\n",
            "Epoch 38/350\n",
            "3168/3168 [==============================] - 6s 2ms/step - loss: 0.3695 - accuracy: 0.8387 - val_loss: 0.3470 - val_accuracy: 0.8462\n",
            "Epoch 39/350\n",
            "3168/3168 [==============================] - 6s 2ms/step - loss: 0.3709 - accuracy: 0.8377 - val_loss: 0.3469 - val_accuracy: 0.8489\n",
            "Epoch 40/350\n",
            "3168/3168 [==============================] - 6s 2ms/step - loss: 0.3696 - accuracy: 0.8384 - val_loss: 0.3437 - val_accuracy: 0.8493\n",
            "Epoch 41/350\n",
            "3168/3168 [==============================] - 6s 2ms/step - loss: 0.3683 - accuracy: 0.8400 - val_loss: 0.3478 - val_accuracy: 0.8468\n",
            "Epoch 42/350\n",
            "3168/3168 [==============================] - 6s 2ms/step - loss: 0.3709 - accuracy: 0.8378 - val_loss: 0.3452 - val_accuracy: 0.8470\n",
            "Epoch 43/350\n",
            "3168/3168 [==============================] - 6s 2ms/step - loss: 0.3695 - accuracy: 0.8389 - val_loss: 0.3431 - val_accuracy: 0.8486\n",
            "Epoch 44/350\n",
            "3168/3168 [==============================] - 6s 2ms/step - loss: 0.3707 - accuracy: 0.8387 - val_loss: 0.3467 - val_accuracy: 0.8465\n",
            "Epoch 45/350\n",
            "3168/3168 [==============================] - 6s 2ms/step - loss: 0.3691 - accuracy: 0.8390 - val_loss: 0.3450 - val_accuracy: 0.8481\n",
            "Epoch 46/350\n",
            "3168/3168 [==============================] - 6s 2ms/step - loss: 0.3698 - accuracy: 0.8379 - val_loss: 0.3437 - val_accuracy: 0.8480\n",
            "Epoch 47/350\n",
            "3168/3168 [==============================] - 6s 2ms/step - loss: 0.3686 - accuracy: 0.8390 - val_loss: 0.3420 - val_accuracy: 0.8495\n",
            "Epoch 48/350\n",
            "3168/3168 [==============================] - 6s 2ms/step - loss: 0.3704 - accuracy: 0.8382 - val_loss: 0.3438 - val_accuracy: 0.8487\n",
            "Epoch 49/350\n",
            "3168/3168 [==============================] - 6s 2ms/step - loss: 0.3697 - accuracy: 0.8370 - val_loss: 0.3444 - val_accuracy: 0.8471\n",
            "Epoch 50/350\n",
            "3168/3168 [==============================] - 6s 2ms/step - loss: 0.3694 - accuracy: 0.8377 - val_loss: 0.3464 - val_accuracy: 0.8467\n",
            "Epoch 51/350\n",
            "3168/3168 [==============================] - 6s 2ms/step - loss: 0.3697 - accuracy: 0.8374 - val_loss: 0.3456 - val_accuracy: 0.8469\n",
            "Epoch 52/350\n",
            "3168/3168 [==============================] - 6s 2ms/step - loss: 0.3695 - accuracy: 0.8374 - val_loss: 0.3455 - val_accuracy: 0.8467\n",
            "Epoch 53/350\n",
            "3168/3168 [==============================] - 6s 2ms/step - loss: 0.3693 - accuracy: 0.8385 - val_loss: 0.3434 - val_accuracy: 0.8495\n",
            "Epoch 54/350\n",
            "3168/3168 [==============================] - 6s 2ms/step - loss: 0.3707 - accuracy: 0.8373 - val_loss: 0.3446 - val_accuracy: 0.8470\n",
            "Epoch 55/350\n",
            "3168/3168 [==============================] - 6s 2ms/step - loss: 0.3687 - accuracy: 0.8389 - val_loss: 0.3439 - val_accuracy: 0.8482\n",
            "Epoch 56/350\n",
            "3168/3168 [==============================] - 6s 2ms/step - loss: 0.3699 - accuracy: 0.8375 - val_loss: 0.3455 - val_accuracy: 0.8464\n",
            "Epoch 57/350\n",
            "3168/3168 [==============================] - 6s 2ms/step - loss: 0.3701 - accuracy: 0.8380 - val_loss: 0.3450 - val_accuracy: 0.8480\n",
            "Epoch 58/350\n",
            "3168/3168 [==============================] - 6s 2ms/step - loss: 0.3696 - accuracy: 0.8381 - val_loss: 0.3455 - val_accuracy: 0.8470\n",
            "Epoch 59/350\n",
            "3168/3168 [==============================] - 6s 2ms/step - loss: 0.3690 - accuracy: 0.8380 - val_loss: 0.3435 - val_accuracy: 0.8496\n",
            "Epoch 60/350\n",
            "3168/3168 [==============================] - 6s 2ms/step - loss: 0.3699 - accuracy: 0.8381 - val_loss: 0.3430 - val_accuracy: 0.8495\n",
            "Epoch 61/350\n",
            "3168/3168 [==============================] - 6s 2ms/step - loss: 0.3712 - accuracy: 0.8379 - val_loss: 0.3424 - val_accuracy: 0.8492\n",
            "Epoch 62/350\n",
            "3168/3168 [==============================] - 6s 2ms/step - loss: 0.3696 - accuracy: 0.8371 - val_loss: 0.3443 - val_accuracy: 0.8490\n",
            "Epoch 00062: early stopping\n"
          ],
          "name": "stdout"
        },
        {
          "output_type": "execute_result",
          "data": {
            "text/plain": [
              "<tensorflow.python.keras.callbacks.History at 0x7f7439ac6810>"
            ]
          },
          "metadata": {
            "tags": []
          },
          "execution_count": 49
        }
      ]
    },
    {
      "cell_type": "markdown",
      "metadata": {
        "id": "d2d7f7d2"
      },
      "source": [
        "### Evaluation"
      ],
      "id": "d2d7f7d2"
    },
    {
      "cell_type": "code",
      "metadata": {
        "colab": {
          "base_uri": "https://localhost:8080/"
        },
        "id": "abc183d2",
        "outputId": "6c2559ce-3eaf-4e46-ab6e-37aaefbe9d19"
      },
      "source": [
        "model.summary()"
      ],
      "id": "abc183d2",
      "execution_count": 50,
      "outputs": [
        {
          "output_type": "stream",
          "text": [
            "Model: \"sequential_2\"\n",
            "_________________________________________________________________\n",
            "Layer (type)                 Output Shape              Param #   \n",
            "=================================================================\n",
            "dense_6 (Dense)              (None, 19)                380       \n",
            "_________________________________________________________________\n",
            "dropout_4 (Dropout)          (None, 19)                0         \n",
            "_________________________________________________________________\n",
            "dense_7 (Dense)              (None, 10)                200       \n",
            "_________________________________________________________________\n",
            "dropout_5 (Dropout)          (None, 10)                0         \n",
            "_________________________________________________________________\n",
            "dense_8 (Dense)              (None, 1)                 11        \n",
            "=================================================================\n",
            "Total params: 591\n",
            "Trainable params: 591\n",
            "Non-trainable params: 0\n",
            "_________________________________________________________________\n"
          ],
          "name": "stdout"
        }
      ]
    },
    {
      "cell_type": "code",
      "metadata": {
        "colab": {
          "base_uri": "https://localhost:8080/",
          "height": 265
        },
        "id": "649696e2",
        "outputId": "b31f5b41-40c0-4c2d-d109-bc9bee1ffa4c"
      },
      "source": [
        "loss_df = pd.DataFrame(model.history.history)\n",
        "loss_df.plot();"
      ],
      "id": "649696e2",
      "execution_count": 52,
      "outputs": [
        {
          "output_type": "display_data",
          "data": {
            "image/png": "[encoded data removed]",
            "text/plain": [
              "<Figure size 432x288 with 1 Axes>"
            ]
          },
          "metadata": {
            "tags": [],
            "needs_background": "light"
          }
        }
      ]
    },
    {
      "cell_type": "markdown",
      "metadata": {
        "id": "1473f6ea"
      },
      "source": [
        "**Loss-Epoch Graph**"
      ],
      "id": "1473f6ea"
    },
    {
      "cell_type": "code",
      "metadata": {
        "colab": {
          "base_uri": "https://localhost:8080/",
          "height": 312
        },
        "id": "076c441f",
        "outputId": "80e00186-f5a5-42fe-9bfe-258c9d0d44e7"
      },
      "source": [
        "fig, ax= plt.subplots()\n",
        "ax.plot(loss_df)\n",
        "ax.set_xlabel(\"epoch\")\n",
        "ax.set_ylabel(\"loss\")\n",
        "ax.set_title(\"loss - epoch graph\")\n",
        "ax.set_xlim([0,50]) # focusing on the given x values\n",
        "ax.set_ylim([0.3,0.4]) # focusing on the given y values"
      ],
      "id": "076c441f",
      "execution_count": 53,
      "outputs": [
        {
          "output_type": "execute_result",
          "data": {
            "text/plain": [
              "(0.3, 0.4)"
            ]
          },
          "metadata": {
            "tags": []
          },
          "execution_count": 53
        },
        {
          "output_type": "display_data",
          "data": {
            "image/png": "[encoded data removed]",
            "text/plain": [
              "<Figure size 432x288 with 1 Axes>"
            ]
          },
          "metadata": {
            "tags": [],
            "needs_background": "light"
          }
        }
      ]
    },
    {
      "cell_type": "markdown",
      "metadata": {
        "id": "3eab6bff"
      },
      "source": [
        "**Evaluation Metrics**"
      ],
      "id": "3eab6bff"
    },
    {
      "cell_type": "code",
      "metadata": {
        "id": "a9ea3181"
      },
      "source": [
        "y_pred = model.predict_classes(X_test)"
      ],
      "id": "a9ea3181",
      "execution_count": 54,
      "outputs": []
    },
    {
      "cell_type": "code",
      "metadata": {
        "colab": {
          "base_uri": "https://localhost:8080/"
        },
        "id": "1aa5aba2",
        "outputId": "8e83648b-8db6-4203-a704-a1b28239effb"
      },
      "source": [
        "\n",
        "print('Confusion Matrix:',*confusion_matrix(y_test,y_pred), sep=\"\\n\")\n",
        "print(classification_report(y_test, y_pred))"
      ],
      "id": "1aa5aba2",
      "execution_count": 55,
      "outputs": [
        {
          "output_type": "stream",
          "text": [
            "Confusion Matrix:\n",
            "[19906   442]\n",
            "[3384 1610]\n",
            "              precision    recall  f1-score   support\n",
            "\n",
            "         0.0       0.85      0.98      0.91     20348\n",
            "         1.0       0.78      0.32      0.46      4994\n",
            "\n",
            "    accuracy                           0.85     25342\n",
            "   macro avg       0.82      0.65      0.68     25342\n",
            "weighted avg       0.84      0.85      0.82     25342\n",
            "\n"
          ],
          "name": "stdout"
        }
      ]
    },
    {
      "cell_type": "markdown",
      "metadata": {
        "id": "90a47195"
      },
      "source": [
        "![image.png](attachment:image.png)"
      ],
      "id": "90a47195"
    },
    {
      "cell_type": "code",
      "metadata": {
        "scrolled": false,
        "colab": {
          "base_uri": "https://localhost:8080/"
        },
        "id": "3509074c",
        "outputId": "33cb94a0-38ab-46f2-f4fc-8924d138d19d"
      },
      "source": [
        "model_accuracy = accuracy_score(y_test, y_pred)\n",
        "model_f1_score = f1_score(y_test, y_pred, average='weighted')\n",
        "model_recall = recall_score(y_test, y_pred, average='weighted')\n",
        "print('model_accuracy:',model_accuracy,\n",
        "      '\\nmodel_f1_score:',model_f1_score,\n",
        "      '\\nmodel_recall:',model_recall)"
      ],
      "id": "3509074c",
      "execution_count": 56,
      "outputs": [
        {
          "output_type": "stream",
          "text": [
            "model_accuracy: 0.8490253334385605 \n",
            "model_f1_score: 0.8225954393806905 \n",
            "model_recall: 0.8490253334385605\n"
          ],
          "name": "stdout"
        }
      ]
    },
    {
      "cell_type": "markdown",
      "metadata": {
        "id": "e797b889"
      },
      "source": [
        "# Results\n",
        "- A model with artificial neural networks was trained. 0.85 accuracy score with best tuninng parameters was gotten.\n",
        "- input layer with 19 neurons and 1 output layer were used. There was 1 hidden layer with 10 neurons.\n",
        "- early_stop was used to save time in model training."
      ],
      "id": "e797b889"
    },
    {
      "cell_type": "code",
      "metadata": {
        "id": "03156e89"
      },
      "source": [
        ""
      ],
      "id": "03156e89",
      "execution_count": 56,
      "outputs": []
    }
  ]
}